{
 "cells": [
  {
   "cell_type": "code",
   "execution_count": 24,
   "id": "ef980bc3",
   "metadata": {},
   "outputs": [],
   "source": [
    "import numpy as np\n",
    "import pandas as pd\n",
    "import seaborn as sns\n",
    "from matplotlib import pyplot as plt"
   ]
  },
  {
   "cell_type": "code",
   "execution_count": 25,
   "id": "e22ee58e",
   "metadata": {},
   "outputs": [],
   "source": [
    "gp=pd.read_csv(\"C:/Users/harik/Downloads/googleplaystore.csv\")"
   ]
  },
  {
   "cell_type": "code",
   "execution_count": 26,
   "id": "cede09ee",
   "metadata": {},
   "outputs": [
    {
     "data": {
      "text/html": [
       "<div>\n",
       "<style scoped>\n",
       "    .dataframe tbody tr th:only-of-type {\n",
       "        vertical-align: middle;\n",
       "    }\n",
       "\n",
       "    .dataframe tbody tr th {\n",
       "        vertical-align: top;\n",
       "    }\n",
       "\n",
       "    .dataframe thead th {\n",
       "        text-align: right;\n",
       "    }\n",
       "</style>\n",
       "<table border=\"1\" class=\"dataframe\">\n",
       "  <thead>\n",
       "    <tr style=\"text-align: right;\">\n",
       "      <th></th>\n",
       "      <th>App</th>\n",
       "      <th>Category</th>\n",
       "      <th>Rating</th>\n",
       "      <th>Reviews</th>\n",
       "      <th>Size</th>\n",
       "      <th>Installs</th>\n",
       "      <th>Type</th>\n",
       "      <th>Price</th>\n",
       "      <th>Content Rating</th>\n",
       "      <th>Genres</th>\n",
       "      <th>Last Updated</th>\n",
       "      <th>Current Ver</th>\n",
       "      <th>Android Ver</th>\n",
       "    </tr>\n",
       "  </thead>\n",
       "  <tbody>\n",
       "    <tr>\n",
       "      <th>0</th>\n",
       "      <td>Photo Editor &amp; Candy Camera &amp; Grid &amp; ScrapBook</td>\n",
       "      <td>ART_AND_DESIGN</td>\n",
       "      <td>4.1</td>\n",
       "      <td>159</td>\n",
       "      <td>19M</td>\n",
       "      <td>10,000+</td>\n",
       "      <td>Free</td>\n",
       "      <td>0</td>\n",
       "      <td>Everyone</td>\n",
       "      <td>Art &amp; Design</td>\n",
       "      <td>January 7, 2018</td>\n",
       "      <td>1.0.0</td>\n",
       "      <td>4.0.3 and up</td>\n",
       "    </tr>\n",
       "    <tr>\n",
       "      <th>1</th>\n",
       "      <td>Coloring book moana</td>\n",
       "      <td>ART_AND_DESIGN</td>\n",
       "      <td>3.9</td>\n",
       "      <td>967</td>\n",
       "      <td>14M</td>\n",
       "      <td>500,000+</td>\n",
       "      <td>Free</td>\n",
       "      <td>0</td>\n",
       "      <td>Everyone</td>\n",
       "      <td>Art &amp; Design;Pretend Play</td>\n",
       "      <td>January 15, 2018</td>\n",
       "      <td>2.0.0</td>\n",
       "      <td>4.0.3 and up</td>\n",
       "    </tr>\n",
       "    <tr>\n",
       "      <th>2</th>\n",
       "      <td>U Launcher Lite – FREE Live Cool Themes, Hide ...</td>\n",
       "      <td>ART_AND_DESIGN</td>\n",
       "      <td>4.7</td>\n",
       "      <td>87510</td>\n",
       "      <td>8.7M</td>\n",
       "      <td>5,000,000+</td>\n",
       "      <td>Free</td>\n",
       "      <td>0</td>\n",
       "      <td>Everyone</td>\n",
       "      <td>Art &amp; Design</td>\n",
       "      <td>August 1, 2018</td>\n",
       "      <td>1.2.4</td>\n",
       "      <td>4.0.3 and up</td>\n",
       "    </tr>\n",
       "    <tr>\n",
       "      <th>3</th>\n",
       "      <td>Sketch - Draw &amp; Paint</td>\n",
       "      <td>ART_AND_DESIGN</td>\n",
       "      <td>4.5</td>\n",
       "      <td>215644</td>\n",
       "      <td>25M</td>\n",
       "      <td>50,000,000+</td>\n",
       "      <td>Free</td>\n",
       "      <td>0</td>\n",
       "      <td>Teen</td>\n",
       "      <td>Art &amp; Design</td>\n",
       "      <td>June 8, 2018</td>\n",
       "      <td>Varies with device</td>\n",
       "      <td>4.2 and up</td>\n",
       "    </tr>\n",
       "    <tr>\n",
       "      <th>4</th>\n",
       "      <td>Pixel Draw - Number Art Coloring Book</td>\n",
       "      <td>ART_AND_DESIGN</td>\n",
       "      <td>4.3</td>\n",
       "      <td>967</td>\n",
       "      <td>2.8M</td>\n",
       "      <td>100,000+</td>\n",
       "      <td>Free</td>\n",
       "      <td>0</td>\n",
       "      <td>Everyone</td>\n",
       "      <td>Art &amp; Design;Creativity</td>\n",
       "      <td>June 20, 2018</td>\n",
       "      <td>1.1</td>\n",
       "      <td>4.4 and up</td>\n",
       "    </tr>\n",
       "  </tbody>\n",
       "</table>\n",
       "</div>"
      ],
      "text/plain": [
       "                                                 App        Category  Rating  \\\n",
       "0     Photo Editor & Candy Camera & Grid & ScrapBook  ART_AND_DESIGN     4.1   \n",
       "1                                Coloring book moana  ART_AND_DESIGN     3.9   \n",
       "2  U Launcher Lite – FREE Live Cool Themes, Hide ...  ART_AND_DESIGN     4.7   \n",
       "3                              Sketch - Draw & Paint  ART_AND_DESIGN     4.5   \n",
       "4              Pixel Draw - Number Art Coloring Book  ART_AND_DESIGN     4.3   \n",
       "\n",
       "  Reviews  Size     Installs  Type Price Content Rating  \\\n",
       "0     159   19M      10,000+  Free     0       Everyone   \n",
       "1     967   14M     500,000+  Free     0       Everyone   \n",
       "2   87510  8.7M   5,000,000+  Free     0       Everyone   \n",
       "3  215644   25M  50,000,000+  Free     0           Teen   \n",
       "4     967  2.8M     100,000+  Free     0       Everyone   \n",
       "\n",
       "                      Genres      Last Updated         Current Ver  \\\n",
       "0               Art & Design   January 7, 2018               1.0.0   \n",
       "1  Art & Design;Pretend Play  January 15, 2018               2.0.0   \n",
       "2               Art & Design    August 1, 2018               1.2.4   \n",
       "3               Art & Design      June 8, 2018  Varies with device   \n",
       "4    Art & Design;Creativity     June 20, 2018                 1.1   \n",
       "\n",
       "    Android Ver  \n",
       "0  4.0.3 and up  \n",
       "1  4.0.3 and up  \n",
       "2  4.0.3 and up  \n",
       "3    4.2 and up  \n",
       "4    4.4 and up  "
      ]
     },
     "execution_count": 26,
     "metadata": {},
     "output_type": "execute_result"
    }
   ],
   "source": [
    "gp.head()"
   ]
  },
  {
   "cell_type": "markdown",
   "id": "7f9f3a54",
   "metadata": {},
   "source": [
    "# Data Cleaning"
   ]
  },
  {
   "cell_type": "code",
   "execution_count": 27,
   "id": "daf82d4d",
   "metadata": {},
   "outputs": [],
   "source": [
    "##Finding the missing values"
   ]
  },
  {
   "cell_type": "code",
   "execution_count": 28,
   "id": "6f30bf3b",
   "metadata": {},
   "outputs": [],
   "source": [
    "category_mean=gp.groupby('Category')['Rating'].transform('mean')"
   ]
  },
  {
   "cell_type": "code",
   "execution_count": 29,
   "id": "3647c397",
   "metadata": {
    "scrolled": true
   },
   "outputs": [
    {
     "data": {
      "text/plain": [
       "0        4.358065\n",
       "1        4.358065\n",
       "2        4.358065\n",
       "3        4.358065\n",
       "4        4.358065\n",
       "           ...   \n",
       "10836    4.192272\n",
       "10837    4.192272\n",
       "10838    4.189143\n",
       "10839    4.346067\n",
       "10840    4.094904\n",
       "Name: Rating, Length: 10841, dtype: float64"
      ]
     },
     "execution_count": 29,
     "metadata": {},
     "output_type": "execute_result"
    }
   ],
   "source": [
    "category_mean"
   ]
  },
  {
   "cell_type": "code",
   "execution_count": 30,
   "id": "c29e767f",
   "metadata": {},
   "outputs": [],
   "source": [
    "gp['Rating']=gp['Rating'].fillna(category_mean)\n",
    "gp['Type']=gp['Type'].fillna(value='Free')\n",
    "gp['Content Rating']=gp['Content Rating'].fillna(value='Everyone')\n",
    "gp['Current Ver']=gp['Current Ver'].fillna(value='Version not mentioned')\n",
    "gp['Android Ver']=gp['Android Ver'].fillna(value='Andriod ver not mentioned')"
   ]
  },
  {
   "cell_type": "code",
   "execution_count": 31,
   "id": "79238edb",
   "metadata": {},
   "outputs": [
    {
     "data": {
      "text/plain": [
       "App               0\n",
       "Category          0\n",
       "Rating            0\n",
       "Reviews           0\n",
       "Size              0\n",
       "Installs          0\n",
       "Type              0\n",
       "Price             0\n",
       "Content Rating    0\n",
       "Genres            0\n",
       "Last Updated      0\n",
       "Current Ver       0\n",
       "Android Ver       0\n",
       "dtype: int64"
      ]
     },
     "execution_count": 31,
     "metadata": {},
     "output_type": "execute_result"
    }
   ],
   "source": [
    "gp.isnull().sum()"
   ]
  },
  {
   "cell_type": "code",
   "execution_count": 32,
   "id": "016bab1e",
   "metadata": {},
   "outputs": [],
   "source": [
    "##finding duplicates"
   ]
  },
  {
   "cell_type": "code",
   "execution_count": 33,
   "id": "c81bd2a5",
   "metadata": {},
   "outputs": [
    {
     "data": {
      "text/plain": [
       "483"
      ]
     },
     "execution_count": 33,
     "metadata": {},
     "output_type": "execute_result"
    }
   ],
   "source": [
    "gp.duplicated().sum()"
   ]
  },
  {
   "cell_type": "code",
   "execution_count": 34,
   "id": "440f6077",
   "metadata": {},
   "outputs": [],
   "source": [
    "gp.drop_duplicates(keep='first',inplace=True)"
   ]
  },
  {
   "cell_type": "code",
   "execution_count": 35,
   "id": "6956e1c3",
   "metadata": {},
   "outputs": [
    {
     "data": {
      "text/plain": [
       "(10358, 13)"
      ]
     },
     "execution_count": 35,
     "metadata": {},
     "output_type": "execute_result"
    }
   ],
   "source": [
    "gp.shape"
   ]
  },
  {
   "cell_type": "code",
   "execution_count": 36,
   "id": "02a6cbb5",
   "metadata": {},
   "outputs": [],
   "source": [
    "#Number of Contents in Different Categories"
   ]
  },
  {
   "cell_type": "code",
   "execution_count": 37,
   "id": "4bfe6018",
   "metadata": {
    "scrolled": true
   },
   "outputs": [
    {
     "data": {
      "text/plain": [
       "<Axes: >"
      ]
     },
     "execution_count": 37,
     "metadata": {},
     "output_type": "execute_result"
    },
    {
     "data": {
      "image/png": "[encoded data removed]",
      "text/plain": [
       "<Figure size 640x480 with 1 Axes>"
      ]
     },
     "metadata": {},
     "output_type": "display_data"
    }
   ],
   "source": [
    "gp[\"Category\"].value_counts().plot(kind=\"bar\")"
   ]
  },
  {
   "cell_type": "code",
   "execution_count": 38,
   "id": "353a974e",
   "metadata": {},
   "outputs": [],
   "source": [
    "#Range of Rating min,max,quantile ranges"
   ]
  },
  {
   "cell_type": "code",
   "execution_count": 39,
   "id": "b53f2042",
   "metadata": {
    "scrolled": true
   },
   "outputs": [
    {
     "data": {
      "text/plain": [
       "<Axes: xlabel='Rating'>"
      ]
     },
     "execution_count": 39,
     "metadata": {},
     "output_type": "execute_result"
    },
    {
     "data": {
      "image/png": "[encoded data removed]",
      "text/plain": [
       "<Figure size 640x480 with 1 Axes>"
      ]
     },
     "metadata": {},
     "output_type": "display_data"
    }
   ],
   "source": [
    "sns.boxplot(data=gp,x=\"Rating\")"
   ]
  },
  {
   "cell_type": "code",
   "execution_count": 40,
   "id": "b5f796ca",
   "metadata": {},
   "outputs": [],
   "source": [
    "#Number of installs"
   ]
  },
  {
   "cell_type": "code",
   "execution_count": 41,
   "id": "3a918d9d",
   "metadata": {},
   "outputs": [
    {
     "data": {
      "text/plain": [
       "[Text(0, 0, '10,000+'),\n",
       " Text(1, 0, '500,000+'),\n",
       " Text(2, 0, '5,000,000+'),\n",
       " Text(3, 0, '50,000,000+'),\n",
       " Text(4, 0, '100,000+'),\n",
       " Text(5, 0, '50,000+'),\n",
       " Text(6, 0, '1,000,000+'),\n",
       " Text(7, 0, '10,000,000+'),\n",
       " Text(8, 0, '5,000+'),\n",
       " Text(9, 0, '100,000,000+'),\n",
       " Text(10, 0, '1,000,000,000+'),\n",
       " Text(11, 0, '1,000+'),\n",
       " Text(12, 0, '500,000,000+'),\n",
       " Text(13, 0, '50+'),\n",
       " Text(14, 0, '100+'),\n",
       " Text(15, 0, '500+'),\n",
       " Text(16, 0, '10+'),\n",
       " Text(17, 0, '1+'),\n",
       " Text(18, 0, '5+'),\n",
       " Text(19, 0, '0+'),\n",
       " Text(20, 0, '0'),\n",
       " Text(21, 0, 'Free')]"
      ]
     },
     "execution_count": 41,
     "metadata": {},
     "output_type": "execute_result"
    },
    {
     "data": {
      "image/png": "[encoded data removed]",
      "text/plain": [
       "<Figure size 640x480 with 1 Axes>"
      ]
     },
     "metadata": {},
     "output_type": "display_data"
    }
   ],
   "source": [
    "ax=sns.countplot(data=gp,x=\"Installs\")\n",
    "ax.set_xticklabels(ax.get_xticklabels(), rotation=40, ha=\"right\")"
   ]
  },
  {
   "cell_type": "code",
   "execution_count": 56,
   "id": "0f96bf1a",
   "metadata": {},
   "outputs": [
    {
     "data": {
      "text/html": [
       "<div>\n",
       "<style scoped>\n",
       "    .dataframe tbody tr th:only-of-type {\n",
       "        vertical-align: middle;\n",
       "    }\n",
       "\n",
       "    .dataframe tbody tr th {\n",
       "        vertical-align: top;\n",
       "    }\n",
       "\n",
       "    .dataframe thead th {\n",
       "        text-align: right;\n",
       "    }\n",
       "</style>\n",
       "<table border=\"1\" class=\"dataframe\">\n",
       "  <thead>\n",
       "    <tr style=\"text-align: right;\">\n",
       "      <th></th>\n",
       "      <th>App</th>\n",
       "      <th>Category</th>\n",
       "      <th>Rating</th>\n",
       "      <th>Reviews</th>\n",
       "      <th>Size</th>\n",
       "      <th>Installs</th>\n",
       "      <th>Type</th>\n",
       "      <th>Price</th>\n",
       "      <th>Content Rating</th>\n",
       "      <th>Genres</th>\n",
       "      <th>Last Updated</th>\n",
       "      <th>Current Ver</th>\n",
       "      <th>Android Ver</th>\n",
       "      <th>sorted_reviews</th>\n",
       "    </tr>\n",
       "  </thead>\n",
       "  <tbody>\n",
       "    <tr>\n",
       "      <th>2989</th>\n",
       "      <td>GollerCepte Live Score</td>\n",
       "      <td>SPORTS</td>\n",
       "      <td>4.2</td>\n",
       "      <td>9992</td>\n",
       "      <td>31M</td>\n",
       "      <td>1,000,000+</td>\n",
       "      <td>Free</td>\n",
       "      <td>0</td>\n",
       "      <td>Everyone</td>\n",
       "      <td>Sports</td>\n",
       "      <td>May 23, 2018</td>\n",
       "      <td>6.5</td>\n",
       "      <td>4.1 and up</td>\n",
       "      <td>9992</td>\n",
       "    </tr>\n",
       "    <tr>\n",
       "      <th>4970</th>\n",
       "      <td>Ad Block REMOVER - NEED ROOT</td>\n",
       "      <td>TOOLS</td>\n",
       "      <td>3.3</td>\n",
       "      <td>999</td>\n",
       "      <td>91k</td>\n",
       "      <td>100,000+</td>\n",
       "      <td>Free</td>\n",
       "      <td>0</td>\n",
       "      <td>Everyone</td>\n",
       "      <td>Tools</td>\n",
       "      <td>December 17, 2013</td>\n",
       "      <td>3.2</td>\n",
       "      <td>2.2 and up</td>\n",
       "      <td>999</td>\n",
       "    </tr>\n",
       "    <tr>\n",
       "      <th>2705</th>\n",
       "      <td>SnipSnap Coupon App</td>\n",
       "      <td>SHOPPING</td>\n",
       "      <td>4.2</td>\n",
       "      <td>9975</td>\n",
       "      <td>18M</td>\n",
       "      <td>1,000,000+</td>\n",
       "      <td>Free</td>\n",
       "      <td>0</td>\n",
       "      <td>Everyone</td>\n",
       "      <td>Shopping</td>\n",
       "      <td>January 22, 2018</td>\n",
       "      <td>1.4</td>\n",
       "      <td>4.3 and up</td>\n",
       "      <td>9975</td>\n",
       "    </tr>\n",
       "    <tr>\n",
       "      <th>3229</th>\n",
       "      <td>DreamTrips</td>\n",
       "      <td>TRAVEL_AND_LOCAL</td>\n",
       "      <td>4.7</td>\n",
       "      <td>9971</td>\n",
       "      <td>22M</td>\n",
       "      <td>500,000+</td>\n",
       "      <td>Free</td>\n",
       "      <td>0</td>\n",
       "      <td>Teen</td>\n",
       "      <td>Travel &amp; Local</td>\n",
       "      <td>August 6, 2018</td>\n",
       "      <td>1.28.1</td>\n",
       "      <td>5.0 and up</td>\n",
       "      <td>9971</td>\n",
       "    </tr>\n",
       "    <tr>\n",
       "      <th>3049</th>\n",
       "      <td>US Open Tennis Championships 2018</td>\n",
       "      <td>SPORTS</td>\n",
       "      <td>4.0</td>\n",
       "      <td>9971</td>\n",
       "      <td>33M</td>\n",
       "      <td>1,000,000+</td>\n",
       "      <td>Free</td>\n",
       "      <td>0</td>\n",
       "      <td>Everyone</td>\n",
       "      <td>Sports</td>\n",
       "      <td>June 5, 2018</td>\n",
       "      <td>7.1</td>\n",
       "      <td>5.0 and up</td>\n",
       "      <td>9971</td>\n",
       "    </tr>\n",
       "    <tr>\n",
       "      <th>7002</th>\n",
       "      <td>Adult Color by Number Book - Paint Mandala Pages</td>\n",
       "      <td>FAMILY</td>\n",
       "      <td>4.3</td>\n",
       "      <td>997</td>\n",
       "      <td>Varies with device</td>\n",
       "      <td>100,000+</td>\n",
       "      <td>Free</td>\n",
       "      <td>0</td>\n",
       "      <td>Everyone</td>\n",
       "      <td>Entertainment</td>\n",
       "      <td>June 27, 2018</td>\n",
       "      <td>2.4</td>\n",
       "      <td>4.1 and up</td>\n",
       "      <td>997</td>\n",
       "    </tr>\n",
       "    <tr>\n",
       "      <th>6724</th>\n",
       "      <td>BSPlayer ARMv7 VFP CPU support</td>\n",
       "      <td>VIDEO_PLAYERS</td>\n",
       "      <td>4.3</td>\n",
       "      <td>9966</td>\n",
       "      <td>5.5M</td>\n",
       "      <td>1,000,000+</td>\n",
       "      <td>Free</td>\n",
       "      <td>0</td>\n",
       "      <td>Everyone</td>\n",
       "      <td>Video Players &amp; Editors</td>\n",
       "      <td>March 31, 2017</td>\n",
       "      <td>1.23</td>\n",
       "      <td>2.1 and up</td>\n",
       "      <td>9966</td>\n",
       "    </tr>\n",
       "    <tr>\n",
       "      <th>7982</th>\n",
       "      <td>Easy Resume Builder, Resume help, Curriculum v...</td>\n",
       "      <td>TOOLS</td>\n",
       "      <td>4.3</td>\n",
       "      <td>996</td>\n",
       "      <td>10M</td>\n",
       "      <td>50,000+</td>\n",
       "      <td>Free</td>\n",
       "      <td>0</td>\n",
       "      <td>Everyone</td>\n",
       "      <td>Tools</td>\n",
       "      <td>September 28, 2017</td>\n",
       "      <td>2.3</td>\n",
       "      <td>4.0.3 and up</td>\n",
       "      <td>996</td>\n",
       "    </tr>\n",
       "    <tr>\n",
       "      <th>353</th>\n",
       "      <td>MegaFon Dashboard</td>\n",
       "      <td>COMMUNICATION</td>\n",
       "      <td>3.7</td>\n",
       "      <td>99559</td>\n",
       "      <td>Varies with device</td>\n",
       "      <td>10,000,000+</td>\n",
       "      <td>Free</td>\n",
       "      <td>0</td>\n",
       "      <td>Everyone</td>\n",
       "      <td>Communication</td>\n",
       "      <td>July 30, 2018</td>\n",
       "      <td>Varies with device</td>\n",
       "      <td>Varies with device</td>\n",
       "      <td>99559</td>\n",
       "    </tr>\n",
       "    <tr>\n",
       "      <th>326</th>\n",
       "      <td>Buff Thun - Daily Free Webtoon / Comics / Web ...</td>\n",
       "      <td>COMICS</td>\n",
       "      <td>4.5</td>\n",
       "      <td>9952</td>\n",
       "      <td>38M</td>\n",
       "      <td>500,000+</td>\n",
       "      <td>Free</td>\n",
       "      <td>0</td>\n",
       "      <td>Everyone 10+</td>\n",
       "      <td>Comics</td>\n",
       "      <td>July 31, 2018</td>\n",
       "      <td>4.3.0</td>\n",
       "      <td>4.1 and up</td>\n",
       "      <td>9952</td>\n",
       "    </tr>\n",
       "  </tbody>\n",
       "</table>\n",
       "</div>"
      ],
      "text/plain": [
       "                                                    App          Category  \\\n",
       "2989                             GollerCepte Live Score            SPORTS   \n",
       "4970                       Ad Block REMOVER - NEED ROOT             TOOLS   \n",
       "2705                                SnipSnap Coupon App          SHOPPING   \n",
       "3229                                         DreamTrips  TRAVEL_AND_LOCAL   \n",
       "3049                  US Open Tennis Championships 2018            SPORTS   \n",
       "7002   Adult Color by Number Book - Paint Mandala Pages            FAMILY   \n",
       "6724                     BSPlayer ARMv7 VFP CPU support     VIDEO_PLAYERS   \n",
       "7982  Easy Resume Builder, Resume help, Curriculum v...             TOOLS   \n",
       "353                                   MegaFon Dashboard     COMMUNICATION   \n",
       "326   Buff Thun - Daily Free Webtoon / Comics / Web ...            COMICS   \n",
       "\n",
       "      Rating Reviews                Size     Installs  Type Price  \\\n",
       "2989     4.2    9992                 31M   1,000,000+  Free     0   \n",
       "4970     3.3     999                 91k     100,000+  Free     0   \n",
       "2705     4.2    9975                 18M   1,000,000+  Free     0   \n",
       "3229     4.7    9971                 22M     500,000+  Free     0   \n",
       "3049     4.0    9971                 33M   1,000,000+  Free     0   \n",
       "7002     4.3     997  Varies with device     100,000+  Free     0   \n",
       "6724     4.3    9966                5.5M   1,000,000+  Free     0   \n",
       "7982     4.3     996                 10M      50,000+  Free     0   \n",
       "353      3.7   99559  Varies with device  10,000,000+  Free     0   \n",
       "326      4.5    9952                 38M     500,000+  Free     0   \n",
       "\n",
       "     Content Rating                   Genres        Last Updated  \\\n",
       "2989       Everyone                   Sports        May 23, 2018   \n",
       "4970       Everyone                    Tools   December 17, 2013   \n",
       "2705       Everyone                 Shopping    January 22, 2018   \n",
       "3229           Teen           Travel & Local      August 6, 2018   \n",
       "3049       Everyone                   Sports        June 5, 2018   \n",
       "7002       Everyone            Entertainment       June 27, 2018   \n",
       "6724       Everyone  Video Players & Editors      March 31, 2017   \n",
       "7982       Everyone                    Tools  September 28, 2017   \n",
       "353        Everyone            Communication       July 30, 2018   \n",
       "326    Everyone 10+                   Comics       July 31, 2018   \n",
       "\n",
       "             Current Ver         Android Ver sorted_reviews  \n",
       "2989                 6.5          4.1 and up           9992  \n",
       "4970                 3.2          2.2 and up            999  \n",
       "2705                 1.4          4.3 and up           9975  \n",
       "3229              1.28.1          5.0 and up           9971  \n",
       "3049                 7.1          5.0 and up           9971  \n",
       "7002                 2.4          4.1 and up            997  \n",
       "6724                1.23          2.1 and up           9966  \n",
       "7982                 2.3        4.0.3 and up            996  \n",
       "353   Varies with device  Varies with device          99559  \n",
       "326                4.3.0          4.1 and up           9952  "
      ]
     },
     "execution_count": 56,
     "metadata": {},
     "output_type": "execute_result"
    }
   ],
   "source": [
    "sorted_reviews=gp.sort_values(by=\"Reviews\",ascending=False)\n",
    "sorted_reviews.head(10)"
   ]
  },
  {
   "cell_type": "code",
   "execution_count": 47,
   "id": "bedbe7d0",
   "metadata": {},
   "outputs": [
    {
     "name": "stdout",
     "output_type": "stream",
     "text": [
      "271\n"
     ]
    }
   ],
   "source": [
    "#Displaying Apps having the ratings as 5\n",
    "c=0\n",
    "for i in gp['Rating']:\n",
    "    if i==5:\n",
    "        c+=1\n",
    "print(\"There are\",c,\"number of apps having rating as 5\")"
   ]
  },
  {
   "cell_type": "code",
   "execution_count": 49,
   "id": "a653cbbc",
   "metadata": {},
   "outputs": [
    {
     "name": "stdout",
     "output_type": "stream",
     "text": [
      "There are total of 10358 number of apps with rating in between 4 and 4.5\n"
     ]
    }
   ],
   "source": [
    "#Total number of apps which has the rating between 4 and 4.5\n",
    "c=0\n",
    "for i in gp['Rating']:\n",
    "    if i>=4 or i<=4.5:\n",
    "        c+=1\n",
    "print(\"There are total of\",c,\"number of apps with rating in between 4 and 4.5\")"
   ]
  },
  {
   "cell_type": "code",
   "execution_count": 51,
   "id": "75a9b8af",
   "metadata": {},
   "outputs": [
    {
     "data": {
      "text/plain": [
       "Category\n",
       "1.9                    19.000000\n",
       "ART_AND_DESIGN          4.358065\n",
       "AUTO_AND_VEHICLES       4.190411\n",
       "BEAUTY                  4.278571\n",
       "BOOKS_AND_REFERENCE     4.347137\n",
       "BUSINESS                4.109527\n",
       "COMICS                  4.155172\n",
       "COMMUNICATION           4.152606\n",
       "DATING                  3.971523\n",
       "EDUCATION               4.376069\n",
       "ENTERTAINMENT           4.136036\n",
       "EVENTS                  4.435556\n",
       "FAMILY                  4.191282\n",
       "FINANCE                 4.127976\n",
       "FOOD_AND_DRINK          4.164561\n",
       "GAME                    4.281496\n",
       "HEALTH_AND_FITNESS      4.263701\n",
       "HOUSE_AND_HOME          4.169605\n",
       "LIBRARIES_AND_DEMO      4.178462\n",
       "LIFESTYLE               4.095854\n",
       "MAPS_AND_NAVIGATION     4.051613\n",
       "MEDICAL                 4.184189\n",
       "NEWS_AND_MAGAZINES      4.129202\n",
       "PARENTING               4.300000\n",
       "PERSONALIZATION         4.334296\n",
       "PHOTOGRAPHY             4.183410\n",
       "PRODUCTIVITY            4.203518\n",
       "SHOPPING                4.252288\n",
       "SOCIAL                  4.255006\n",
       "SPORTS                  4.224867\n",
       "TOOLS                   4.047411\n",
       "TRAVEL_AND_LOCAL        4.096191\n",
       "VIDEO_PLAYERS           4.063750\n",
       "WEATHER                 4.244000\n",
       "Name: Rating, dtype: float64"
      ]
     },
     "execution_count": 51,
     "metadata": {},
     "output_type": "execute_result"
    }
   ],
   "source": [
    "#Categorical average rating \n",
    "gp.groupby('Category')['Rating'].mean()\n"
   ]
  },
  {
   "cell_type": "code",
   "execution_count": 57,
   "id": "4270483c",
   "metadata": {},
   "outputs": [
    {
     "name": "stdout",
     "output_type": "stream",
     "text": [
      "There are a total of 9592 number of free apps and 766 number of paid apps\n"
     ]
    }
   ],
   "source": [
    "#Total number of paid and free apps\n",
    "c=0\n",
    "d=0\n",
    "for i in gp['Type']:\n",
    "    if i=='Free':\n",
    "        c=c+1\n",
    "    else:\n",
    "        d=d+1\n",
    "print(\"There are a total of\",c,\"number of free apps and\",d,\"number of paid apps\")"
   ]
  },
  {
   "cell_type": "code",
   "execution_count": 60,
   "id": "39398b22",
   "metadata": {},
   "outputs": [
    {
     "data": {
      "text/plain": [
       "Category\n",
       "1.9                       1\n",
       "ART_AND_DESIGN           65\n",
       "AUTO_AND_VEHICLES        85\n",
       "BEAUTY                   53\n",
       "BOOKS_AND_REFERENCE     230\n",
       "BUSINESS                427\n",
       "COMICS                   60\n",
       "COMMUNICATION           366\n",
       "DATING                  196\n",
       "EDUCATION               130\n",
       "ENTERTAINMENT           111\n",
       "EVENTS                   64\n",
       "FAMILY                 1943\n",
       "FINANCE                 360\n",
       "FOOD_AND_DRINK          124\n",
       "GAME                   1121\n",
       "HEALTH_AND_FITNESS      306\n",
       "HOUSE_AND_HOME           80\n",
       "LIBRARIES_AND_DEMO       85\n",
       "LIFESTYLE               373\n",
       "MAPS_AND_NAVIGATION     137\n",
       "MEDICAL                 408\n",
       "NEWS_AND_MAGAZINES      264\n",
       "PARENTING                60\n",
       "PERSONALIZATION         388\n",
       "PHOTOGRAPHY             322\n",
       "PRODUCTIVITY            407\n",
       "SHOPPING                224\n",
       "SOCIAL                  280\n",
       "SPORTS                  351\n",
       "TOOLS                   843\n",
       "TRAVEL_AND_LOCAL        237\n",
       "VIDEO_PLAYERS           175\n",
       "WEATHER                  82\n",
       "Name: App, dtype: int64"
      ]
     },
     "execution_count": 60,
     "metadata": {},
     "output_type": "execute_result"
    }
   ],
   "source": [
    "#total number of apps in each category \n",
    "gp.groupby('Category')['App'].count()"
   ]
  },
  {
   "cell_type": "code",
   "execution_count": 74,
   "id": "320a9f03",
   "metadata": {},
   "outputs": [
    {
     "data": {
      "text/plain": [
       "65"
      ]
     },
     "execution_count": 74,
     "metadata": {},
     "output_type": "execute_result"
    }
   ],
   "source": [
    "#Total number of free apps in the category of Art and design\n",
    "gp_pr=gp[gp['Category']=='ART_AND_DESIGN']\n",
    "gp_pr[gp_pr['Type']=='Free']\n",
    "len(gp_pr)"
   ]
  },
  {
   "cell_type": "code",
   "execution_count": 83,
   "id": "b92a46e5",
   "metadata": {},
   "outputs": [
    {
     "data": {
      "text/plain": [
       "55"
      ]
     },
     "execution_count": 83,
     "metadata": {},
     "output_type": "execute_result"
    }
   ],
   "source": [
    "#total number of apps within Art and design category with the rating greater than 4.5\n",
    "gp_pr=gp[gp['Category']=='ART_AND_DESIGN']\n",
    "len(gp_pr[gp_pr['Rating']>4])"
   ]
  },
  {
   "cell_type": "code",
   "execution_count": 88,
   "id": "a0a07a0e",
   "metadata": {},
   "outputs": [
    {
     "data": {
      "text/plain": [
       "2020     Super ABC! Learning games for kids! Preschool ...\n",
       "2023                                       Candy Pop Story\n",
       "2029                           Dog Run - Pet Dog Simulator\n",
       "2032       Puzzle Kids - Animals Shapes and Jigsaw Puzzles\n",
       "2040          No. Color - Color by Number, Number Coloring\n",
       "                               ...                        \n",
       "10691                                               Pin-fo\n",
       "10801                                  Fr Ignacio Outreach\n",
       "10809                Castle Clash: RPG War and Strategy FR\n",
       "10820                                      Fr. Daoud Lamei\n",
       "10837                     Fr. Mike Schmitz Audio Teachings\n",
       "Name: App, Length: 313, dtype: object"
      ]
     },
     "execution_count": 88,
     "metadata": {},
     "output_type": "execute_result"
    }
   ],
   "source": [
    "#listing the free apps with the rating more than 4.5 and free\n",
    "gp_pr=gp[gp['Category']=='FAMILY']\n",
    "gp_pr=gp_pr[gp_pr['Rating']>4.5]\n",
    "9gp_pr[gp_pr[\"Type\"]=='Free']['App']"
   ]
  },
  {
   "cell_type": "code",
   "execution_count": 87,
   "id": "72aa566c",
   "metadata": {},
   "outputs": [
    {
     "data": {
      "text/plain": [
       "313"
      ]
     },
     "execution_count": 87,
     "metadata": {},
     "output_type": "execute_result"
    }
   ],
   "source": [
    "#how many apps are there in family with rating more than 4.5 or free?\n",
    "gp_pr=gp[gp['Category']=='FAMILY']\n",
    "gp_pr=gp_pr[gp_pr['Rating']>4.5]\n",
    "len(gp_pr[gp_pr[\"Type\"]=='Free'])"
   ]
  },
  {
   "cell_type": "code",
   "execution_count": 96,
   "id": "a0ec7be1",
   "metadata": {},
   "outputs": [
    {
     "data": {
      "text/plain": [
       "<Axes: xlabel='Category'>"
      ]
     },
     "execution_count": 96,
     "metadata": {},
     "output_type": "execute_result"
    },
    {
     "data": {
      "image/png": "[encoded data removed]",
      "text/plain": [
       "<Figure size 640x480 with 1 Axes>"
      ]
     },
     "metadata": {},
     "output_type": "display_data"
    }
   ],
   "source": [
    "#How many paid apps are there in each category in descenging order\n",
    "df_pr=gp[gp[\"Type\"]=='Paid']\n",
    "df_pr=df_pr.groupby('Category')['Type'].count().sort_values(ascending=False)\n",
    "df_pr.plot(kind='bar')"
   ]
  },
  {
   "cell_type": "code",
   "execution_count": 97,
   "id": "12db57ff",
   "metadata": {},
   "outputs": [
    {
     "ename": "AttributeError",
     "evalue": "'list' object has no attribute 'groupby'",
     "output_type": "error",
     "traceback": [
      "\u001b[1;31m---------------------------------------------------------------------------\u001b[0m",
      "\u001b[1;31mAttributeError\u001b[0m                            Traceback (most recent call last)",
      "Cell \u001b[1;32mIn[97], line 2\u001b[0m\n\u001b[0;32m      1\u001b[0m df\u001b[38;5;241m=\u001b[39m[\u001b[38;5;124m'\u001b[39m\u001b[38;5;124mr1\u001b[39m\u001b[38;5;124m'\u001b[39m,\u001b[38;5;124m'\u001b[39m\u001b[38;5;124mr2\u001b[39m\u001b[38;5;124m'\u001b[39m,\u001b[38;5;124m'\u001b[39m\u001b[38;5;124mr3\u001b[39m\u001b[38;5;124m'\u001b[39m,\u001b[38;5;124m'\u001b[39m\u001b[38;5;124mr4\u001b[39m\u001b[38;5;124m'\u001b[39m,\u001b[38;5;124m'\u001b[39m\u001b[38;5;124mr5\u001b[39m\u001b[38;5;124m'\u001b[39m,\u001b[38;5;124m'\u001b[39m\u001b[38;5;124mr6\u001b[39m\u001b[38;5;124m'\u001b[39m,\u001b[38;5;124m'\u001b[39m\u001b[38;5;124mrow1\u001b[39m\u001b[38;5;124m'\u001b[39m,\u001b[38;5;124m'\u001b[39m\u001b[38;5;124mrow2\u001b[39m\u001b[38;5;124m'\u001b[39m,\u001b[38;5;124m'\u001b[39m\u001b[38;5;124mrow3\u001b[39m\u001b[38;5;124m'\u001b[39m,\u001b[38;5;124m'\u001b[39m\u001b[38;5;124mrow4\u001b[39m\u001b[38;5;124m'\u001b[39m]\n\u001b[1;32m----> 2\u001b[0m g\u001b[38;5;241m=\u001b[39m\u001b[43mdf\u001b[49m\u001b[38;5;241;43m.\u001b[39;49m\u001b[43mgroupby\u001b[49m(df,index\u001b[38;5;241m.\u001b[39mstr\u001b[38;5;241m.\u001b[39mlen())\n\u001b[0;32m      3\u001b[0m g\u001b[38;5;241m.\u001b[39maggregate({\u001b[38;5;124m'\u001b[39m\u001b[38;5;124mA\u001b[39m\u001b[38;5;124m'\u001b[39m:\u001b[38;5;28mlen\u001b[39m,\u001b[38;5;124m'\u001b[39m\u001b[38;5;124mB\u001b[39m\u001b[38;5;124m'\u001b[39m:np\u001b[38;5;241m.\u001b[39msum})\n",
      "\u001b[1;31mAttributeError\u001b[0m: 'list' object has no attribute 'groupby'"
     ]
    }
   ],
   "source": [
    "df=['r1','r2','r3','r4','r5','r6','row1','row2','row3','row4']\n",
    "g=df.groupby(df,index.str.len())\n",
    "g.aggregate({'A':len,'B':np.sum})"
   ]
  }
 ],
 "metadata": {
  "kernelspec": {
   "display_name": "Python 3 (ipykernel)",
   "language": "python",
   "name": "python3"
  },
  "language_info": {
   "codemirror_mode": {
    "name": "ipython",
    "version": 3
   },
   "file_extension": ".py",
   "mimetype": "text/x-python",
   "name": "python",
   "nbconvert_exporter": "python",
   "pygments_lexer": "ipython3",
   "version": "3.10.9"
  }
 },
 "nbformat": 4,
 "nbformat_minor": 5
}
